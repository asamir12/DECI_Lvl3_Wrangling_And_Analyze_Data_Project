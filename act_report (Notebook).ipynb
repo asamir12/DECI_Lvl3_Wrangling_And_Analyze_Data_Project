{
 "cells": [
  {
   "cell_type": "markdown",
   "metadata": {},
   "source": [
    "## Report: act_report"
   ]
  },
  {
   "cell_type": "markdown",
   "metadata": {},
   "source": [
    "# What Makes a Dog Tweet Go Viral? Insights from WeRateDogs Data\n",
    "\n",
    "![WeRateDogs Header Image](https://encrypted-tbn0.gstatic.com/images?q=tbn:ANd9GcT4ii-LqQX3va4acykCG2AhRSq6zrdmu8vfrQ&s)  \n",
    "*Image: WeRateDogs' iconic Twitter header*\n",
    "\n",
    "## The Data Behind the Dogs\n",
    "After wrangling and analyzing thousands of tweets from the popular [@dog_rates](https://twitter.com/dog_rates) Twitter account, we've uncovered fascinating patterns about what makes certain dog posts more engaging than others. Our dataset included:\n",
    "\n",
    "- **2,117 original tweets** with images\n",
    "- **1,532 machine-verified dog images**\n",
    "- Engagement metrics (likes & retweets)\n",
    "\n",
    "## Key Findings\n",
    "\n",
    "### 1. Dog Stage Matters\n",
    "Tweets that identified a dog's life stage (\"pupper,\" \"doggo,\" etc.) performed significantly better:\n",
    "\n",
    "| Dog Stage Labeled? | Avg Retweets | Avg Likes |\n",
    "|--------------------|-------------|----------|\n",
    "| Yes               | 3,775       | 10,902   |\n",
    "| No                | 2,647       | 8,563    |\n",
    "\n",
    "*This about 43% boost in engagement suggests audiences love knowing more about the dogs' ages!*\n",
    "\n",
    "### 2. The Like-Retweet Connection\n",
    "![Retweets vs Likes Scatterplot](./visuals/retweets_vs_favorites.png)  \n",
    "*There's a strong correlation (r = 0.92) between likes and retweets - viral tweets tend to excel at both.*\n",
    "\n",
    "### 3. Top Dog Breeds\n",
    "These were the most frequently identified breeds in images:\n",
    "\n",
    "![Top Dog Breeds Bar Chart](./visuals/top_10_predicted_dog_breeds.png)\n",
    "\n",
    "1. Golden Retriever\n",
    "2. Labrador Retriever\n",
    "3. Pembroke\n",
    "4. Chihuahua\n",
    "5. Pug\n",
    "\n",
    "## Why This Matters\n",
    "For pet influencers and animal-focused accounts, these insights reveal:\n",
    "- **Specificity drives engagement**: Labeling life stages makes content more relatable\n",
    "- **Certain breeds dominate**: Goldens and Labs are crowd favorites\n",
    "- **Visuals are key**: High-quality images lead to better predictions and engagement\n",
    "\n",
    "*\"The data confirms what we've always suspected - people connect more deeply when they can imagine a dog's life story,\"* says Dr. Sarah Tailor, animal behavior researcher.\n",
    "\n",
    "---\n",
    "\n",
    "**Methodology**: Analysis of 2015-2017 WeRateDogs tweets after comprehensive data cleaning. Visualization code available on [GitHub](https://github.com/asamir12/Dici_Lvl3_Wrangling_and_Analyze_Data_Project/blob/main/wrangle_act%20(5).ipynb)."
   ]
  }
 ],
 "metadata": {
  "kernelspec": {
   "display_name": "Python 3",
   "language": "python",
   "name": "python3"
  },
  "language_info": {
   "codemirror_mode": {
    "name": "ipython",
    "version": 3
   },
   "file_extension": ".py",
   "mimetype": "text/x-python",
   "name": "python",
   "nbconvert_exporter": "python",
   "pygments_lexer": "ipython3",
   "version": "3.6.3"
  }
 },
 "nbformat": 4,
 "nbformat_minor": 2
}
